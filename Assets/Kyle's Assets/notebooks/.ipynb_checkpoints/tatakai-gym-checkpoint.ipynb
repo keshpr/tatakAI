{
 "cells": [
  {
   "cell_type": "code",
   "execution_count": null,
   "metadata": {
    "scrolled": true
   },
   "outputs": [],
   "source": [
    "from gym_unity.envs import UnityEnv\n",
    "from time import sleep\n",
    "import numpy as np\n",
    "from stable_baselines import PPO2\n",
    "from stable_baselines.common.policies import MlpPolicy\n",
    "from stable_baselines.common.evaluation import evaluate_policy\n",
    "\n",
    "# point to the binary with one brain with two agents\n",
    "FILENAME = \"../../../../binaries/sameBrainBinary.app\"\n"
   ]
  },
  {
   "cell_type": "code",
   "execution_count": null,
   "metadata": {
    "scrolled": true
   },
   "outputs": [],
   "source": [
    "worker_id = 0\n",
    "use_visual = False\n",
    "uint8_visual = False\n",
    "multiagent = True\n",
    "allow_multiple_visual_obs = True\n",
    "\n",
    "env = UnityEnv(FILENAME, worker_id, use_visual, uint8_visual, multiagent, allow_multiple_visual_obs)"
   ]
  },
  {
   "cell_type": "code",
   "execution_count": null,
   "metadata": {},
   "outputs": [],
   "source": [
    "print(len(env.reset()))"
   ]
  },
  {
   "cell_type": "code",
   "execution_count": null,
   "metadata": {},
   "outputs": [],
   "source": [
    "model = PPO2(MlpPolicy, env, verbose=1)\n",
    "mean_reward, std_reward = evaluate_policy(model, env, n_eval_episodes=100)\n",
    "\n",
    "print(f\"mean_reward:{mean_reward:.2f} +/- {std_reward:.2f}\")"
   ]
  },
  {
   "cell_type": "code",
   "execution_count": null,
   "metadata": {
    "scrolled": true
   },
   "outputs": [],
   "source": [
    "env.reset()\n",
    "for i in range(100):\n",
    "    env.render()\n",
    "    agent_one_step = np.array([0, 0, 1, 1, 0, 0, 1])\n",
    "    agent_two_step = env.action_space.sample()\n",
    "    observation, reward, done, info = env.step([agent_one_step, agent_two_step])\n",
    "    print(observation)\n",
    "    if done[0] == True:\n",
    "        break"
   ]
  },
  {
   "cell_type": "code",
   "execution_count": null,
   "metadata": {},
   "outputs": [],
   "source": [
    "# sleep(10)\n",
    "env.close()"
   ]
  },
  {
   "cell_type": "code",
   "execution_count": null,
   "metadata": {},
   "outputs": [],
   "source": []
  }
 ],
 "metadata": {
  "kernelspec": {
   "display_name": "Python 3",
   "language": "python",
   "name": "python3"
  },
  "language_info": {
   "codemirror_mode": {
    "name": "ipython",
    "version": 3
   },
   "file_extension": ".py",
   "mimetype": "text/x-python",
   "name": "python",
   "nbconvert_exporter": "python",
   "pygments_lexer": "ipython3",
   "version": "3.6.7"
  }
 },
 "nbformat": 4,
 "nbformat_minor": 2
}
